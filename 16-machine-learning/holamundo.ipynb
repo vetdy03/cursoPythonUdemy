{
 "cells": [
  {
   "cell_type": "code",
   "execution_count": 1,
   "id": "1a3a6652-6fe8-4732-ac0b-12474a404dc2",
   "metadata": {},
   "outputs": [
    {
     "name": "stdout",
     "output_type": "stream",
     "text": [
      "hola mundo\n"
     ]
    }
   ],
   "source": [
    "print(\"hola mundo\")\n"
   ]
  },
  {
   "cell_type": "code",
   "execution_count": null,
   "id": "9a589c7f-7f7d-4e70-b661-92d3e6105dd9",
   "metadata": {},
   "outputs": [],
   "source": []
  }
 ],
 "metadata": {
  "kernelspec": {
   "display_name": "Python 3 (ipykernel)",
   "language": "python",
   "name": "python3"
  },
  "language_info": {
   "codemirror_mode": {
    "name": "ipython",
    "version": 3
   },
   "file_extension": ".py",
   "mimetype": "text/x-python",
   "name": "python",
   "nbconvert_exporter": "python",
   "pygments_lexer": "ipython3",
   "version": "3.9.24"
  }
 },
 "nbformat": 4,
 "nbformat_minor": 5
}
